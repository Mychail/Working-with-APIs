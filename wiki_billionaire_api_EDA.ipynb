{
 "cells": [
  {
   "cell_type": "code",
   "execution_count": 1,
   "id": "b179c43b-1fae-43e1-a838-8d53dcb9cc79",
   "metadata": {},
   "outputs": [],
   "source": [
    "import requests\n",
    "import pandas as pd\n",
    "\n",
    "from bs4 import BeautifulSoup\n",
    "\n",
    "import numpy as np\n",
    "\n",
    "from io import StringIO"
   ]
  },
  {
   "cell_type": "code",
   "execution_count": 2,
   "id": "51eb0468-e7d1-4ac0-a9f5-ef56b2b3ca19",
   "metadata": {},
   "outputs": [
    {
     "data": {
      "text/plain": [
       "200"
      ]
     },
     "execution_count": 2,
     "metadata": {},
     "output_type": "execute_result"
    }
   ],
   "source": [
    "# Get raw html using wikipedia api\n",
    "url = \"https://en.wikipedia.org/w/api.php\"\n",
    "params = {\n",
    "    \"action\":\"parse\",\n",
    "    \"page\": \"The World's Billionaires\",\n",
    "    \"format\":\"json\",\n",
    "    \"prop\":\"text\"\n",
    "}\n",
    "\n",
    "response = requests.get(url, params= params)\n",
    "\n",
    "response.status_code"
   ]
  },
  {
   "cell_type": "code",
   "execution_count": 3,
   "id": "af9cdcc6-32b5-437f-b799-5bc007354dbf",
   "metadata": {},
   "outputs": [],
   "source": [
    "data = response.json()"
   ]
  },
  {
   "cell_type": "code",
   "execution_count": 4,
   "id": "9d66d81a-68b0-44b1-8911-462be03573e3",
   "metadata": {},
   "outputs": [
    {
     "data": {
      "text/plain": [
       "dict"
      ]
     },
     "execution_count": 4,
     "metadata": {},
     "output_type": "execute_result"
    }
   ],
   "source": [
    "type(data['parse']['text'])"
   ]
  },
  {
   "cell_type": "code",
   "execution_count": 5,
   "id": "f1b4558e-e695-473d-8d47-1a2229d38c3e",
   "metadata": {},
   "outputs": [
    {
     "data": {
      "text/plain": [
       "str"
      ]
     },
     "execution_count": 5,
     "metadata": {},
     "output_type": "execute_result"
    }
   ],
   "source": [
    "type(data['parse']['text']['*'])"
   ]
  },
  {
   "cell_type": "code",
   "execution_count": 6,
   "id": "8c3117ac-2177-44b7-a3b9-07ee689ed1cb",
   "metadata": {},
   "outputs": [],
   "source": [
    "html_content = data['parse']['text']['*']"
   ]
  },
  {
   "cell_type": "code",
   "execution_count": 7,
   "id": "9e3a05d2-c704-4f88-8788-32fb20414c47",
   "metadata": {},
   "outputs": [],
   "source": [
    "soup = BeautifulSoup(html_content, 'html.parser')\n"
   ]
  },
  {
   "cell_type": "code",
   "execution_count": 8,
   "id": "9863448a-3f02-42e0-8bd1-caee1a9bce32",
   "metadata": {},
   "outputs": [],
   "source": [
    "tables = soup.find_all(\"table\")\n",
    "headings = soup.find_all(\"h3\")"
   ]
  },
  {
   "cell_type": "code",
   "execution_count": 9,
   "id": "aa4b25f5-c0bb-4471-aa33-a90d6b50f700",
   "metadata": {},
   "outputs": [
    {
     "data": {
      "text/html": [
       "<div>\n",
       "<style scoped>\n",
       "    .dataframe tbody tr th:only-of-type {\n",
       "        vertical-align: middle;\n",
       "    }\n",
       "\n",
       "    .dataframe tbody tr th {\n",
       "        vertical-align: top;\n",
       "    }\n",
       "\n",
       "    .dataframe thead th {\n",
       "        text-align: right;\n",
       "    }\n",
       "</style>\n",
       "<table border=\"1\" class=\"dataframe\">\n",
       "  <thead>\n",
       "    <tr style=\"text-align: right;\">\n",
       "      <th></th>\n",
       "      <th>0</th>\n",
       "      <th>1</th>\n",
       "      <th>year</th>\n",
       "      <th>Icon</th>\n",
       "      <th>Description</th>\n",
       "      <th>No.</th>\n",
       "      <th>Name</th>\n",
       "      <th>Net worth (USD)</th>\n",
       "      <th>Age</th>\n",
       "      <th>Nationality</th>\n",
       "      <th>...</th>\n",
       "      <th>Year</th>\n",
       "      <th>Number of billionaires</th>\n",
       "      <th>Group's combined net worth</th>\n",
       "      <th>vteForbes magazine</th>\n",
       "      <th>vteForbes magazine.1</th>\n",
       "      <th>vteForbes magazine.2</th>\n",
       "      <th>vteBillionaires</th>\n",
       "      <th>vteBillionaires.1</th>\n",
       "      <th>vteExtreme wealth</th>\n",
       "      <th>vteExtreme wealth.1</th>\n",
       "    </tr>\n",
       "  </thead>\n",
       "  <tbody>\n",
       "    <tr>\n",
       "      <th>0</th>\n",
       "      <td>List of the world's billionaires, ranked in or...</td>\n",
       "      <td>List of the world's billionaires, ranked in or...</td>\n",
       "      <td>unknown</td>\n",
       "      <td>NaN</td>\n",
       "      <td>NaN</td>\n",
       "      <td>NaN</td>\n",
       "      <td>NaN</td>\n",
       "      <td>NaN</td>\n",
       "      <td>NaN</td>\n",
       "      <td>NaN</td>\n",
       "      <td>...</td>\n",
       "      <td>NaN</td>\n",
       "      <td>NaN</td>\n",
       "      <td>NaN</td>\n",
       "      <td>NaN</td>\n",
       "      <td>NaN</td>\n",
       "      <td>NaN</td>\n",
       "      <td>NaN</td>\n",
       "      <td>NaN</td>\n",
       "      <td>NaN</td>\n",
       "      <td>NaN</td>\n",
       "    </tr>\n",
       "    <tr>\n",
       "      <th>1</th>\n",
       "      <td>The net worth of the world's billionaires incr...</td>\n",
       "      <td>The net worth of the world's billionaires incr...</td>\n",
       "      <td>unknown</td>\n",
       "      <td>NaN</td>\n",
       "      <td>NaN</td>\n",
       "      <td>NaN</td>\n",
       "      <td>NaN</td>\n",
       "      <td>NaN</td>\n",
       "      <td>NaN</td>\n",
       "      <td>NaN</td>\n",
       "      <td>...</td>\n",
       "      <td>NaN</td>\n",
       "      <td>NaN</td>\n",
       "      <td>NaN</td>\n",
       "      <td>NaN</td>\n",
       "      <td>NaN</td>\n",
       "      <td>NaN</td>\n",
       "      <td>NaN</td>\n",
       "      <td>NaN</td>\n",
       "      <td>NaN</td>\n",
       "      <td>NaN</td>\n",
       "    </tr>\n",
       "    <tr>\n",
       "      <th>2</th>\n",
       "      <td>Publication details</td>\n",
       "      <td>Publication details</td>\n",
       "      <td>unknown</td>\n",
       "      <td>NaN</td>\n",
       "      <td>NaN</td>\n",
       "      <td>NaN</td>\n",
       "      <td>NaN</td>\n",
       "      <td>NaN</td>\n",
       "      <td>NaN</td>\n",
       "      <td>NaN</td>\n",
       "      <td>...</td>\n",
       "      <td>NaN</td>\n",
       "      <td>NaN</td>\n",
       "      <td>NaN</td>\n",
       "      <td>NaN</td>\n",
       "      <td>NaN</td>\n",
       "      <td>NaN</td>\n",
       "      <td>NaN</td>\n",
       "      <td>NaN</td>\n",
       "      <td>NaN</td>\n",
       "      <td>NaN</td>\n",
       "    </tr>\n",
       "    <tr>\n",
       "      <th>3</th>\n",
       "      <td>Publisher</td>\n",
       "      <td>Whale Media InvestmentsForbes family</td>\n",
       "      <td>unknown</td>\n",
       "      <td>NaN</td>\n",
       "      <td>NaN</td>\n",
       "      <td>NaN</td>\n",
       "      <td>NaN</td>\n",
       "      <td>NaN</td>\n",
       "      <td>NaN</td>\n",
       "      <td>NaN</td>\n",
       "      <td>...</td>\n",
       "      <td>NaN</td>\n",
       "      <td>NaN</td>\n",
       "      <td>NaN</td>\n",
       "      <td>NaN</td>\n",
       "      <td>NaN</td>\n",
       "      <td>NaN</td>\n",
       "      <td>NaN</td>\n",
       "      <td>NaN</td>\n",
       "      <td>NaN</td>\n",
       "      <td>NaN</td>\n",
       "    </tr>\n",
       "    <tr>\n",
       "      <th>4</th>\n",
       "      <td>Publication</td>\n",
       "      <td>Forbes</td>\n",
       "      <td>unknown</td>\n",
       "      <td>NaN</td>\n",
       "      <td>NaN</td>\n",
       "      <td>NaN</td>\n",
       "      <td>NaN</td>\n",
       "      <td>NaN</td>\n",
       "      <td>NaN</td>\n",
       "      <td>NaN</td>\n",
       "      <td>...</td>\n",
       "      <td>NaN</td>\n",
       "      <td>NaN</td>\n",
       "      <td>NaN</td>\n",
       "      <td>NaN</td>\n",
       "      <td>NaN</td>\n",
       "      <td>NaN</td>\n",
       "      <td>NaN</td>\n",
       "      <td>NaN</td>\n",
       "      <td>NaN</td>\n",
       "      <td>NaN</td>\n",
       "    </tr>\n",
       "  </tbody>\n",
       "</table>\n",
       "<p>5 rows × 26 columns</p>\n",
       "</div>"
      ],
      "text/plain": [
       "                                                   0  \\\n",
       "0  List of the world's billionaires, ranked in or...   \n",
       "1  The net worth of the world's billionaires incr...   \n",
       "2                                Publication details   \n",
       "3                                          Publisher   \n",
       "4                                        Publication   \n",
       "\n",
       "                                                   1     year  Icon  \\\n",
       "0  List of the world's billionaires, ranked in or...  unknown   NaN   \n",
       "1  The net worth of the world's billionaires incr...  unknown   NaN   \n",
       "2                                Publication details  unknown   NaN   \n",
       "3               Whale Media InvestmentsForbes family  unknown   NaN   \n",
       "4                                             Forbes  unknown   NaN   \n",
       "\n",
       "  Description  No. Name Net worth (USD)  Age Nationality  ... Year  \\\n",
       "0         NaN  NaN  NaN             NaN  NaN         NaN  ...  NaN   \n",
       "1         NaN  NaN  NaN             NaN  NaN         NaN  ...  NaN   \n",
       "2         NaN  NaN  NaN             NaN  NaN         NaN  ...  NaN   \n",
       "3         NaN  NaN  NaN             NaN  NaN         NaN  ...  NaN   \n",
       "4         NaN  NaN  NaN             NaN  NaN         NaN  ...  NaN   \n",
       "\n",
       "  Number of billionaires  Group's combined net worth  vteForbes magazine  \\\n",
       "0                    NaN                         NaN                 NaN   \n",
       "1                    NaN                         NaN                 NaN   \n",
       "2                    NaN                         NaN                 NaN   \n",
       "3                    NaN                         NaN                 NaN   \n",
       "4                    NaN                         NaN                 NaN   \n",
       "\n",
       "   vteForbes magazine.1  vteForbes magazine.2 vteBillionaires  \\\n",
       "0                   NaN                   NaN             NaN   \n",
       "1                   NaN                   NaN             NaN   \n",
       "2                   NaN                   NaN             NaN   \n",
       "3                   NaN                   NaN             NaN   \n",
       "4                   NaN                   NaN             NaN   \n",
       "\n",
       "  vteBillionaires.1 vteExtreme wealth vteExtreme wealth.1  \n",
       "0               NaN               NaN                 NaN  \n",
       "1               NaN               NaN                 NaN  \n",
       "2               NaN               NaN                 NaN  \n",
       "3               NaN               NaN                 NaN  \n",
       "4               NaN               NaN                 NaN  \n",
       "\n",
       "[5 rows x 26 columns]"
      ]
     },
     "metadata": {},
     "output_type": "display_data"
    }
   ],
   "source": [
    "# store segmented tables with associated year\n",
    "dfs = []\n",
    "current_year = \"unknown\"\n",
    "\n",
    "for tag in soup.find_all(['h3', 'table']):\n",
    "    if tag.name in ['h3']:\n",
    "        text = tag.get_text()\n",
    "        if any(str(year) in text for year in list(range(1987,2026))):\n",
    "            current_year = [str(year) for year in list(range(1987,2026)) if str(year) in text][0]\n",
    "    elif tag.name == 'table':\n",
    "        try:\n",
    "            df = pd.read_html(StringIO(str(tag)))[0]\n",
    "            df['year'] = current_year\n",
    "            dfs.append(df)\n",
    "        except Exception as e:\n",
    "            print(\"Skipped a table:\", e)\n",
    "\n",
    "\n",
    "\n",
    "# combine all ttables\n",
    "final_df = pd.concat(dfs, ignore_index= True)\n",
    "\n",
    "display(final_df.head())\n",
    "\n",
    "            "
   ]
  },
  {
   "cell_type": "code",
   "execution_count": 10,
   "id": "fb74738d-5516-47cc-b689-32380901be23",
   "metadata": {},
   "outputs": [
    {
     "name": "stdout",
     "output_type": "stream",
     "text": [
      "<class 'pandas.core.frame.DataFrame'>\n",
      "RangeIndex: 483 entries, 0 to 482\n",
      "Data columns (total 26 columns):\n",
      " #   Column                       Non-Null Count  Dtype  \n",
      "---  ------                       --------------  -----  \n",
      " 0   0                            31 non-null     object \n",
      " 1   1                            31 non-null     object \n",
      " 2   year                         483 non-null    object \n",
      " 3   Icon                         0 non-null      float64\n",
      " 4   Description                  3 non-null      object \n",
      " 5   No.                          262 non-null    float64\n",
      " 6   Name                         392 non-null    object \n",
      " 7   Net worth (USD)              392 non-null    object \n",
      " 8   Age                          302 non-null    object \n",
      " 9   Nationality                  392 non-null    object \n",
      " 10  Primary source(s) of wealth  40 non-null     object \n",
      " 11  Source(s) of wealth          352 non-null    object \n",
      " 12  No.[49]                      100 non-null    float64\n",
      " 13  No.[61]                      10 non-null     float64\n",
      " 14  No.[62]                      10 non-null     float64\n",
      " 15  No.[63]                      10 non-null     float64\n",
      " 16  Year                         27 non-null     object \n",
      " 17  Number of billionaires       27 non-null     object \n",
      " 18  Group's combined net worth   27 non-null     object \n",
      " 19  vteForbes magazine           11 non-null     object \n",
      " 20  vteForbes magazine.1         11 non-null     object \n",
      " 21  vteForbes magazine.2         0 non-null      float64\n",
      " 22  vteBillionaires              5 non-null      object \n",
      " 23  vteBillionaires.1            5 non-null      object \n",
      " 24  vteExtreme wealth            14 non-null     object \n",
      " 25  vteExtreme wealth.1          14 non-null     object \n",
      "dtypes: float64(7), object(19)\n",
      "memory usage: 98.2+ KB\n"
     ]
    }
   ],
   "source": [
    "final_df.info()"
   ]
  },
  {
   "cell_type": "code",
   "execution_count": 11,
   "id": "d68813af-9065-471a-bd27-53dadbd1034f",
   "metadata": {},
   "outputs": [],
   "source": [
    "df = final_df[[\"year\",\"Nationality\",\"Name\",\"Net worth (USD)\"]]"
   ]
  },
  {
   "cell_type": "code",
   "execution_count": 12,
   "id": "335c35f3-135c-417c-bc5f-a103b5681261",
   "metadata": {},
   "outputs": [],
   "source": [
    "df = df.dropna(how = 'all')"
   ]
  },
  {
   "cell_type": "code",
   "execution_count": 13,
   "id": "b8b0f31a-039a-4160-a6b4-7cb630e03203",
   "metadata": {},
   "outputs": [
    {
     "name": "stdout",
     "output_type": "stream",
     "text": [
      "<class 'pandas.core.frame.DataFrame'>\n",
      "RangeIndex: 483 entries, 0 to 482\n",
      "Data columns (total 4 columns):\n",
      " #   Column           Non-Null Count  Dtype \n",
      "---  ------           --------------  ----- \n",
      " 0   year             483 non-null    object\n",
      " 1   Nationality      392 non-null    object\n",
      " 2   Name             392 non-null    object\n",
      " 3   Net worth (USD)  392 non-null    object\n",
      "dtypes: object(4)\n",
      "memory usage: 15.2+ KB\n"
     ]
    }
   ],
   "source": [
    "df.info()"
   ]
  },
  {
   "cell_type": "code",
   "execution_count": 14,
   "id": "962f3229-1fe6-4def-9718-ebcd71eb2529",
   "metadata": {},
   "outputs": [],
   "source": [
    "df['year'] = df.year.replace(\"unknown\",np.nan)\n",
    "df.dropna(subset=['year'], inplace= True)"
   ]
  },
  {
   "cell_type": "code",
   "execution_count": 15,
   "id": "d01faaec-0741-46fa-b7ff-ecec0a41bc14",
   "metadata": {},
   "outputs": [
    {
     "name": "stdout",
     "output_type": "stream",
     "text": [
      "<class 'pandas.core.frame.DataFrame'>\n",
      "Index: 464 entries, 19 to 482\n",
      "Data columns (total 4 columns):\n",
      " #   Column           Non-Null Count  Dtype \n",
      "---  ------           --------------  ----- \n",
      " 0   year             464 non-null    object\n",
      " 1   Nationality      392 non-null    object\n",
      " 2   Name             392 non-null    object\n",
      " 3   Net worth (USD)  392 non-null    object\n",
      "dtypes: object(4)\n",
      "memory usage: 18.1+ KB\n"
     ]
    }
   ],
   "source": [
    "df.info()"
   ]
  },
  {
   "cell_type": "code",
   "execution_count": 16,
   "id": "71632446-fbe3-4f33-97b4-5f69c849cae2",
   "metadata": {},
   "outputs": [
    {
     "data": {
      "text/html": [
       "<div>\n",
       "<style scoped>\n",
       "    .dataframe tbody tr th:only-of-type {\n",
       "        vertical-align: middle;\n",
       "    }\n",
       "\n",
       "    .dataframe tbody tr th {\n",
       "        vertical-align: top;\n",
       "    }\n",
       "\n",
       "    .dataframe thead th {\n",
       "        text-align: right;\n",
       "    }\n",
       "</style>\n",
       "<table border=\"1\" class=\"dataframe\">\n",
       "  <thead>\n",
       "    <tr style=\"text-align: right;\">\n",
       "      <th></th>\n",
       "      <th>year</th>\n",
       "      <th>Nationality</th>\n",
       "      <th>Name</th>\n",
       "      <th>Net worth (USD)</th>\n",
       "    </tr>\n",
       "  </thead>\n",
       "  <tbody>\n",
       "    <tr>\n",
       "      <th>19</th>\n",
       "      <td>2025</td>\n",
       "      <td>South Africa  Canada  United States</td>\n",
       "      <td>Elon Musk</td>\n",
       "      <td>$342 billion</td>\n",
       "    </tr>\n",
       "    <tr>\n",
       "      <th>20</th>\n",
       "      <td>2025</td>\n",
       "      <td>United States</td>\n",
       "      <td>Mark Zuckerberg</td>\n",
       "      <td>$216 billion</td>\n",
       "    </tr>\n",
       "    <tr>\n",
       "      <th>21</th>\n",
       "      <td>2025</td>\n",
       "      <td>United States</td>\n",
       "      <td>Jeff Bezos</td>\n",
       "      <td>$215 billion</td>\n",
       "    </tr>\n",
       "    <tr>\n",
       "      <th>22</th>\n",
       "      <td>2025</td>\n",
       "      <td>United States</td>\n",
       "      <td>Larry Ellison</td>\n",
       "      <td>$192 billion</td>\n",
       "    </tr>\n",
       "    <tr>\n",
       "      <th>23</th>\n",
       "      <td>2025</td>\n",
       "      <td>France</td>\n",
       "      <td>Bernard Arnault &amp; family</td>\n",
       "      <td>$178 billion</td>\n",
       "    </tr>\n",
       "  </tbody>\n",
       "</table>\n",
       "</div>"
      ],
      "text/plain": [
       "    year                          Nationality                      Name  \\\n",
       "19  2025  South Africa  Canada  United States                 Elon Musk   \n",
       "20  2025                        United States           Mark Zuckerberg   \n",
       "21  2025                        United States                Jeff Bezos   \n",
       "22  2025                        United States             Larry Ellison   \n",
       "23  2025                               France  Bernard Arnault & family   \n",
       "\n",
       "   Net worth (USD)  \n",
       "19    $342 billion  \n",
       "20    $216 billion  \n",
       "21    $215 billion  \n",
       "22    $192 billion  \n",
       "23    $178 billion  "
      ]
     },
     "execution_count": 16,
     "metadata": {},
     "output_type": "execute_result"
    }
   ],
   "source": [
    "df.head()"
   ]
  },
  {
   "cell_type": "code",
   "execution_count": 17,
   "id": "4e55deec-a5f7-46d2-a46b-430b8e0b9852",
   "metadata": {},
   "outputs": [
    {
     "data": {
      "text/html": [
       "<div>\n",
       "<style scoped>\n",
       "    .dataframe tbody tr th:only-of-type {\n",
       "        vertical-align: middle;\n",
       "    }\n",
       "\n",
       "    .dataframe tbody tr th {\n",
       "        vertical-align: top;\n",
       "    }\n",
       "\n",
       "    .dataframe thead th {\n",
       "        text-align: right;\n",
       "    }\n",
       "</style>\n",
       "<table border=\"1\" class=\"dataframe\">\n",
       "  <thead>\n",
       "    <tr style=\"text-align: right;\">\n",
       "      <th></th>\n",
       "      <th>year</th>\n",
       "      <th>Nationality</th>\n",
       "      <th>Name</th>\n",
       "      <th>Net worth (USD)</th>\n",
       "    </tr>\n",
       "  </thead>\n",
       "  <tbody>\n",
       "    <tr>\n",
       "      <th>411</th>\n",
       "      <td>1987</td>\n",
       "      <td>NaN</td>\n",
       "      <td>NaN</td>\n",
       "      <td>NaN</td>\n",
       "    </tr>\n",
       "    <tr>\n",
       "      <th>412</th>\n",
       "      <td>1987</td>\n",
       "      <td>NaN</td>\n",
       "      <td>NaN</td>\n",
       "      <td>NaN</td>\n",
       "    </tr>\n",
       "    <tr>\n",
       "      <th>413</th>\n",
       "      <td>1987</td>\n",
       "      <td>NaN</td>\n",
       "      <td>NaN</td>\n",
       "      <td>NaN</td>\n",
       "    </tr>\n",
       "    <tr>\n",
       "      <th>414</th>\n",
       "      <td>1987</td>\n",
       "      <td>NaN</td>\n",
       "      <td>NaN</td>\n",
       "      <td>NaN</td>\n",
       "    </tr>\n",
       "    <tr>\n",
       "      <th>415</th>\n",
       "      <td>1987</td>\n",
       "      <td>NaN</td>\n",
       "      <td>NaN</td>\n",
       "      <td>NaN</td>\n",
       "    </tr>\n",
       "    <tr>\n",
       "      <th>...</th>\n",
       "      <td>...</td>\n",
       "      <td>...</td>\n",
       "      <td>...</td>\n",
       "      <td>...</td>\n",
       "    </tr>\n",
       "    <tr>\n",
       "      <th>478</th>\n",
       "      <td>1987</td>\n",
       "      <td>NaN</td>\n",
       "      <td>NaN</td>\n",
       "      <td>NaN</td>\n",
       "    </tr>\n",
       "    <tr>\n",
       "      <th>479</th>\n",
       "      <td>1987</td>\n",
       "      <td>NaN</td>\n",
       "      <td>NaN</td>\n",
       "      <td>NaN</td>\n",
       "    </tr>\n",
       "    <tr>\n",
       "      <th>480</th>\n",
       "      <td>1987</td>\n",
       "      <td>NaN</td>\n",
       "      <td>NaN</td>\n",
       "      <td>NaN</td>\n",
       "    </tr>\n",
       "    <tr>\n",
       "      <th>481</th>\n",
       "      <td>1987</td>\n",
       "      <td>NaN</td>\n",
       "      <td>NaN</td>\n",
       "      <td>NaN</td>\n",
       "    </tr>\n",
       "    <tr>\n",
       "      <th>482</th>\n",
       "      <td>1987</td>\n",
       "      <td>NaN</td>\n",
       "      <td>NaN</td>\n",
       "      <td>NaN</td>\n",
       "    </tr>\n",
       "  </tbody>\n",
       "</table>\n",
       "<p>72 rows × 4 columns</p>\n",
       "</div>"
      ],
      "text/plain": [
       "     year Nationality Name Net worth (USD)\n",
       "411  1987         NaN  NaN             NaN\n",
       "412  1987         NaN  NaN             NaN\n",
       "413  1987         NaN  NaN             NaN\n",
       "414  1987         NaN  NaN             NaN\n",
       "415  1987         NaN  NaN             NaN\n",
       "..    ...         ...  ...             ...\n",
       "478  1987         NaN  NaN             NaN\n",
       "479  1987         NaN  NaN             NaN\n",
       "480  1987         NaN  NaN             NaN\n",
       "481  1987         NaN  NaN             NaN\n",
       "482  1987         NaN  NaN             NaN\n",
       "\n",
       "[72 rows x 4 columns]"
      ]
     },
     "execution_count": 17,
     "metadata": {},
     "output_type": "execute_result"
    }
   ],
   "source": [
    "df[df.isna().any(axis= 1)]"
   ]
  },
  {
   "cell_type": "code",
   "execution_count": 18,
   "id": "fec81af8-e9f8-4e73-afa4-9ca9609d22f2",
   "metadata": {},
   "outputs": [],
   "source": [
    "df = df.dropna()"
   ]
  },
  {
   "cell_type": "code",
   "execution_count": 19,
   "id": "34d0ba1a-e692-45a4-b12d-8192b0ff532e",
   "metadata": {},
   "outputs": [
    {
     "name": "stdout",
     "output_type": "stream",
     "text": [
      "<class 'pandas.core.frame.DataFrame'>\n",
      "Index: 392 entries, 19 to 410\n",
      "Data columns (total 4 columns):\n",
      " #   Column           Non-Null Count  Dtype \n",
      "---  ------           --------------  ----- \n",
      " 0   year             392 non-null    object\n",
      " 1   Nationality      392 non-null    object\n",
      " 2   Name             392 non-null    object\n",
      " 3   Net worth (USD)  392 non-null    object\n",
      "dtypes: object(4)\n",
      "memory usage: 15.3+ KB\n"
     ]
    }
   ],
   "source": [
    "df.info()"
   ]
  },
  {
   "cell_type": "code",
   "execution_count": 20,
   "id": "0215771e-6235-4690-b3ca-7a5d757ae187",
   "metadata": {},
   "outputs": [
    {
     "data": {
      "text/html": [
       "<div>\n",
       "<style scoped>\n",
       "    .dataframe tbody tr th:only-of-type {\n",
       "        vertical-align: middle;\n",
       "    }\n",
       "\n",
       "    .dataframe tbody tr th {\n",
       "        vertical-align: top;\n",
       "    }\n",
       "\n",
       "    .dataframe thead th {\n",
       "        text-align: right;\n",
       "    }\n",
       "</style>\n",
       "<table border=\"1\" class=\"dataframe\">\n",
       "  <thead>\n",
       "    <tr style=\"text-align: right;\">\n",
       "      <th></th>\n",
       "      <th>year</th>\n",
       "      <th>Nationality</th>\n",
       "      <th>Name</th>\n",
       "      <th>Net worth (USD)</th>\n",
       "    </tr>\n",
       "  </thead>\n",
       "  <tbody>\n",
       "    <tr>\n",
       "      <th>19</th>\n",
       "      <td>2025</td>\n",
       "      <td>South Africa  Canada  United States</td>\n",
       "      <td>Elon Musk</td>\n",
       "      <td>$342 billion</td>\n",
       "    </tr>\n",
       "    <tr>\n",
       "      <th>20</th>\n",
       "      <td>2025</td>\n",
       "      <td>United States</td>\n",
       "      <td>Mark Zuckerberg</td>\n",
       "      <td>$216 billion</td>\n",
       "    </tr>\n",
       "    <tr>\n",
       "      <th>21</th>\n",
       "      <td>2025</td>\n",
       "      <td>United States</td>\n",
       "      <td>Jeff Bezos</td>\n",
       "      <td>$215 billion</td>\n",
       "    </tr>\n",
       "    <tr>\n",
       "      <th>22</th>\n",
       "      <td>2025</td>\n",
       "      <td>United States</td>\n",
       "      <td>Larry Ellison</td>\n",
       "      <td>$192 billion</td>\n",
       "    </tr>\n",
       "    <tr>\n",
       "      <th>23</th>\n",
       "      <td>2025</td>\n",
       "      <td>France</td>\n",
       "      <td>Bernard Arnault &amp; family</td>\n",
       "      <td>$178 billion</td>\n",
       "    </tr>\n",
       "  </tbody>\n",
       "</table>\n",
       "</div>"
      ],
      "text/plain": [
       "    year                          Nationality                      Name  \\\n",
       "19  2025  South Africa  Canada  United States                 Elon Musk   \n",
       "20  2025                        United States           Mark Zuckerberg   \n",
       "21  2025                        United States                Jeff Bezos   \n",
       "22  2025                        United States             Larry Ellison   \n",
       "23  2025                               France  Bernard Arnault & family   \n",
       "\n",
       "   Net worth (USD)  \n",
       "19    $342 billion  \n",
       "20    $216 billion  \n",
       "21    $215 billion  \n",
       "22    $192 billion  \n",
       "23    $178 billion  "
      ]
     },
     "execution_count": 20,
     "metadata": {},
     "output_type": "execute_result"
    }
   ],
   "source": [
    "df.head()"
   ]
  },
  {
   "cell_type": "code",
   "execution_count": 21,
   "id": "f4ce6c94-5000-4396-831d-f904c39a24ee",
   "metadata": {},
   "outputs": [
    {
     "data": {
      "text/plain": [
       "array(['2025', '2024', '2023', '2022', '2021', '2020', '2019', '2018',\n",
       "       '2017', '2016', '2015', '2014', '2013', '2012', '2011', '2010',\n",
       "       '2009', '2008', '2007', '2006', '2005', '2004', '2003', '2002',\n",
       "       '2001', '2000', '1999', '1998', '1997', '1996', '1995', '1994',\n",
       "       '1993', '1992', '1991', '1990', '1989', '1988', '1987'],\n",
       "      dtype=object)"
      ]
     },
     "execution_count": 21,
     "metadata": {},
     "output_type": "execute_result"
    }
   ],
   "source": [
    "df.year.unique()"
   ]
  },
  {
   "cell_type": "markdown",
   "id": "a9ba5890-27dd-47c9-8611-018d479637cf",
   "metadata": {},
   "source": [
    "## Population data pull"
   ]
  },
  {
   "cell_type": "code",
   "execution_count": 22,
   "id": "c7a9a356-df94-4c27-920e-ec4bb1e168f0",
   "metadata": {},
   "outputs": [],
   "source": [
    "from io import StringIO"
   ]
  },
  {
   "cell_type": "code",
   "execution_count": 23,
   "id": "d544a0c7-9dd7-4058-9da1-d4b91e85c8f8",
   "metadata": {},
   "outputs": [
    {
     "data": {
      "text/plain": [
       "200"
      ]
     },
     "execution_count": 23,
     "metadata": {},
     "output_type": "execute_result"
    }
   ],
   "source": [
    "url = \"https://en.wikipedia.org/w/api.php\"\n",
    "params = {\n",
    "    \"action\": \"parse\",\n",
    "    \"page\":\"List of countries and dependencies by population\",\n",
    "    \"format\":\"json\"\n",
    "}\n",
    "\n",
    "response = requests.get(url, params= params)\n",
    "\n",
    "response.status_code"
   ]
  },
  {
   "cell_type": "code",
   "execution_count": 24,
   "id": "903c9d55-865f-42a3-a1c4-f12697da1ab1",
   "metadata": {},
   "outputs": [],
   "source": [
    "data = response.json()"
   ]
  },
  {
   "cell_type": "code",
   "execution_count": 25,
   "id": "381b18c0-1c7b-48cb-8e8c-cf26cc29edfa",
   "metadata": {},
   "outputs": [
    {
     "data": {
      "text/plain": [
       "dict_keys(['parse'])"
      ]
     },
     "execution_count": 25,
     "metadata": {},
     "output_type": "execute_result"
    }
   ],
   "source": [
    "data.keys()"
   ]
  },
  {
   "cell_type": "code",
   "execution_count": 26,
   "id": "6ff42686-ca68-42aa-99e2-d4688e6c62b4",
   "metadata": {},
   "outputs": [
    {
     "data": {
      "text/plain": [
       "dict"
      ]
     },
     "execution_count": 26,
     "metadata": {},
     "output_type": "execute_result"
    }
   ],
   "source": [
    "type(data[\"parse\"])"
   ]
  },
  {
   "cell_type": "code",
   "execution_count": 27,
   "id": "ab89bb1e-bba7-4561-af23-97d71d15e441",
   "metadata": {},
   "outputs": [
    {
     "data": {
      "text/plain": [
       "dict_keys(['title', 'pageid', 'revid', 'text', 'langlinks', 'categories', 'links', 'templates', 'images', 'externallinks', 'sections', 'showtoc', 'parsewarnings', 'displaytitle', 'iwlinks', 'properties'])"
      ]
     },
     "execution_count": 27,
     "metadata": {},
     "output_type": "execute_result"
    }
   ],
   "source": [
    "data[\"parse\"].keys()"
   ]
  },
  {
   "cell_type": "code",
   "execution_count": 28,
   "id": "9a838c09-6343-495f-b335-d163a5d3bcfe",
   "metadata": {},
   "outputs": [
    {
     "data": {
      "text/plain": [
       "dict"
      ]
     },
     "execution_count": 28,
     "metadata": {},
     "output_type": "execute_result"
    }
   ],
   "source": [
    "type(data['parse']['text'])"
   ]
  },
  {
   "cell_type": "code",
   "execution_count": 29,
   "id": "a61ba1f1-ede2-4cbf-a356-b6c0bd91248e",
   "metadata": {},
   "outputs": [],
   "source": [
    "html = data['parse']['text']['*']"
   ]
  },
  {
   "cell_type": "code",
   "execution_count": 30,
   "id": "0ea4a7c0-5a07-42bc-b550-da7ef23061ee",
   "metadata": {},
   "outputs": [],
   "source": [
    "soup = BeautifulSoup(html, 'html.parser')"
   ]
  },
  {
   "cell_type": "code",
   "execution_count": 31,
   "id": "7c332e16-aa93-42d6-bcbe-b0275371171b",
   "metadata": {},
   "outputs": [],
   "source": [
    "table = soup.find_all('table')"
   ]
  },
  {
   "cell_type": "code",
   "execution_count": 32,
   "id": "5f0c0e9c-52b7-4d65-b2d2-843c90adea8d",
   "metadata": {},
   "outputs": [],
   "source": [
    "df = pd.read_html(StringIO(str(table)), skiprows= [1])[0]"
   ]
  },
  {
   "cell_type": "code",
   "execution_count": 33,
   "id": "7a83d7a9-21da-4c67-85b3-08066295de95",
   "metadata": {},
   "outputs": [
    {
     "data": {
      "text/plain": [
       "pandas.core.frame.DataFrame"
      ]
     },
     "execution_count": 33,
     "metadata": {},
     "output_type": "execute_result"
    }
   ],
   "source": [
    "type(df)"
   ]
  },
  {
   "cell_type": "code",
   "execution_count": 34,
   "id": "bcb33a16-2a0a-4e1f-983f-37a2957dd2be",
   "metadata": {},
   "outputs": [
    {
     "data": {
      "text/html": [
       "<div>\n",
       "<style scoped>\n",
       "    .dataframe tbody tr th:only-of-type {\n",
       "        vertical-align: middle;\n",
       "    }\n",
       "\n",
       "    .dataframe tbody tr th {\n",
       "        vertical-align: top;\n",
       "    }\n",
       "\n",
       "    .dataframe thead th {\n",
       "        text-align: right;\n",
       "    }\n",
       "</style>\n",
       "<table border=\"1\" class=\"dataframe\">\n",
       "  <thead>\n",
       "    <tr style=\"text-align: right;\">\n",
       "      <th></th>\n",
       "      <th>Location</th>\n",
       "      <th>Population</th>\n",
       "      <th>% of world</th>\n",
       "      <th>Date</th>\n",
       "      <th>Source (official or from the United Nations)</th>\n",
       "      <th>Notes</th>\n",
       "    </tr>\n",
       "  </thead>\n",
       "  <tbody>\n",
       "    <tr>\n",
       "      <th>0</th>\n",
       "      <td>India</td>\n",
       "      <td>1413324000</td>\n",
       "      <td>17.3%</td>\n",
       "      <td>1 Mar 2025</td>\n",
       "      <td>Official projection[4]</td>\n",
       "      <td>[b]</td>\n",
       "    </tr>\n",
       "    <tr>\n",
       "      <th>1</th>\n",
       "      <td>China</td>\n",
       "      <td>1408280000</td>\n",
       "      <td>17.2%</td>\n",
       "      <td>31 Dec 2024</td>\n",
       "      <td>Official estimate[5]</td>\n",
       "      <td>[c]</td>\n",
       "    </tr>\n",
       "    <tr>\n",
       "      <th>2</th>\n",
       "      <td>United States</td>\n",
       "      <td>340110988</td>\n",
       "      <td>4.2%</td>\n",
       "      <td>1 Jul 2024</td>\n",
       "      <td>Official estimate[6]</td>\n",
       "      <td>[d]</td>\n",
       "    </tr>\n",
       "    <tr>\n",
       "      <th>3</th>\n",
       "      <td>Indonesia</td>\n",
       "      <td>282477584</td>\n",
       "      <td>3.5%</td>\n",
       "      <td>30 Jun 2024</td>\n",
       "      <td>National annual projection[7]</td>\n",
       "      <td>NaN</td>\n",
       "    </tr>\n",
       "    <tr>\n",
       "      <th>4</th>\n",
       "      <td>Pakistan</td>\n",
       "      <td>241499431</td>\n",
       "      <td>3.0%</td>\n",
       "      <td>1 Mar 2023</td>\n",
       "      <td>2023 census result[8]</td>\n",
       "      <td>[e]</td>\n",
       "    </tr>\n",
       "  </tbody>\n",
       "</table>\n",
       "</div>"
      ],
      "text/plain": [
       "        Location  Population % of world         Date  \\\n",
       "0          India  1413324000      17.3%   1 Mar 2025   \n",
       "1          China  1408280000      17.2%  31 Dec 2024   \n",
       "2  United States   340110988       4.2%   1 Jul 2024   \n",
       "3      Indonesia   282477584       3.5%  30 Jun 2024   \n",
       "4       Pakistan   241499431       3.0%   1 Mar 2023   \n",
       "\n",
       "  Source (official or from the United Nations) Notes  \n",
       "0                       Official projection[4]   [b]  \n",
       "1                         Official estimate[5]   [c]  \n",
       "2                         Official estimate[6]   [d]  \n",
       "3                National annual projection[7]   NaN  \n",
       "4                        2023 census result[8]   [e]  "
      ]
     },
     "execution_count": 34,
     "metadata": {},
     "output_type": "execute_result"
    }
   ],
   "source": [
    "df.head()"
   ]
  },
  {
   "cell_type": "code",
   "execution_count": 35,
   "id": "005c79bf-1113-4fd5-9a34-5ddbb4190785",
   "metadata": {},
   "outputs": [],
   "source": [
    "df = df.iloc[:,0:4].drop(columns = ['% of world'])"
   ]
  },
  {
   "cell_type": "code",
   "execution_count": 36,
   "id": "89e61e4b-6175-476a-b573-f394c7b48ffb",
   "metadata": {},
   "outputs": [
    {
     "name": "stdout",
     "output_type": "stream",
     "text": [
      "<class 'pandas.core.frame.DataFrame'>\n",
      "RangeIndex: 239 entries, 0 to 238\n",
      "Data columns (total 3 columns):\n",
      " #   Column      Non-Null Count  Dtype \n",
      "---  ------      --------------  ----- \n",
      " 0   Location    239 non-null    object\n",
      " 1   Population  239 non-null    int64 \n",
      " 2   Date        239 non-null    object\n",
      "dtypes: int64(1), object(2)\n",
      "memory usage: 5.7+ KB\n"
     ]
    }
   ],
   "source": [
    "df.info()"
   ]
  },
  {
   "cell_type": "code",
   "execution_count": 37,
   "id": "1a73b775-f3cd-4420-a406-f8dae4a6dfd2",
   "metadata": {},
   "outputs": [
    {
     "data": {
      "text/plain": [
       "array(['India', 'China', 'United States', 'Indonesia', 'Pakistan',\n",
       "       'Nigeria', 'Brazil', 'Bangladesh', 'Russia', 'Mexico', 'Japan',\n",
       "       'Philippines', 'Ethiopia', 'Democratic Republic of the Congo',\n",
       "       'Egypt', 'Vietnam', 'Iran', 'Turkey', 'Germany', 'France',\n",
       "       'United Kingdom', 'Thailand', 'South Africa', 'Tanzania', 'Italy',\n",
       "       'Colombia', 'Kenya', 'Myanmar', 'South Korea', 'Sudan', 'Spain',\n",
       "       'Algeria', 'Argentina', 'Uganda', 'Iraq', 'Afghanistan', 'Canada',\n",
       "       'Uzbekistan', 'Poland', 'Morocco', 'Angola', 'Malaysia', 'Peru',\n",
       "       'Mozambique', 'Ghana', 'Ukraine', 'Yemen', 'Saudi Arabia',\n",
       "       'Madagascar', 'Ivory Coast', 'Nepal', 'Cameroon', 'Venezuela',\n",
       "       'Australia', 'Niger', 'North Korea', 'Syria', 'Burkina Faso',\n",
       "       'Taiwan', 'Mali', 'Sri Lanka', 'Kazakhstan', 'Malawi', 'Chile',\n",
       "       'Zambia', 'Romania', 'Somalia', 'Chad', 'Senegal', 'Netherlands',\n",
       "       'Guatemala', 'Cambodia', 'Ecuador', 'Zimbabwe', 'South Sudan',\n",
       "       'Guinea', 'Rwanda', 'Benin', 'Burundi', 'Tunisia', 'Haiti',\n",
       "       'Belgium', 'Papua New Guinea', 'Jordan', 'Bolivia', 'Cuba',\n",
       "       'Czech Republic', 'Dominican Republic', 'United Arab Emirates',\n",
       "       'Portugal', 'Sweden', 'Greece', 'Tajikistan', 'Azerbaijan',\n",
       "       'Israel', 'Honduras', 'Hungary', 'Austria', 'Belarus',\n",
       "       'Switzerland', 'Sierra Leone', 'Togo', 'Laos', 'Hong Kong (China)',\n",
       "       'Libya', 'Kyrgyzstan', 'Turkmenistan', 'Nicaragua', 'Serbia',\n",
       "       'Central African Republic', 'Bulgaria', 'Republic of the Congo',\n",
       "       'Paraguay', 'Singapore', 'El Salvador', 'Denmark', 'Finland',\n",
       "       'Norway', 'Lebanon', 'Palestine', 'Slovakia', 'Ireland',\n",
       "       'New Zealand', 'Costa Rica', 'Oman', 'Liberia', 'Mauritania',\n",
       "       'Kuwait', 'Panama', 'Croatia', 'Georgia', 'Eritrea', 'Mongolia',\n",
       "       'Uruguay', 'Bosnia and Herzegovina', 'Puerto Rico (US)', 'Armenia',\n",
       "       'Namibia', 'Lithuania', 'Qatar', 'Jamaica', 'Moldova', 'Gambia',\n",
       "       'Botswana', 'Gabon', 'Albania', 'Lesotho', 'Slovenia', 'Latvia',\n",
       "       'North Macedonia', 'Guinea-Bissau', 'Bahrain', 'Kosovo',\n",
       "       'Equatorial Guinea', 'Timor-Leste', 'Estonia',\n",
       "       'Trinidad and Tobago', 'Mauritius', 'Eswatini', 'Djibouti',\n",
       "       'Cyprus', 'Fiji', 'Comoros', 'Bhutan', 'Guyana', 'Solomon Islands',\n",
       "       'Macau (China)', 'Luxembourg', 'Montenegro', 'Suriname',\n",
       "       'Western Sahara', 'Malta', 'Maldives', 'Cape Verde',\n",
       "       'Northern Cyprus', 'Brunei', 'Belize', 'Bahamas', 'Iceland',\n",
       "       'Transnistria', 'Vanuatu', 'French Polynesia (France)',\n",
       "       'New Caledonia (France)', 'Barbados', 'Abkhazia',\n",
       "       'São Tomé and Príncipe', 'Samoa', 'Saint Lucia',\n",
       "       'Curaçao (Netherlands)', 'Guam (US)', 'Seychelles', 'Kiribati',\n",
       "       'Grenada', 'Saint Vincent and the Grenadines',\n",
       "       'Aruba (Netherlands)', 'Micronesia', 'Antigua and Barbuda',\n",
       "       'Jersey (UK)', 'Tonga', 'Andorra', 'U.S. Virgin Islands (US)',\n",
       "       'Cayman Islands (UK)', 'Isle of Man (UK)', 'Dominica',\n",
       "       'Guernsey (UK)', 'Bermuda (UK)', 'Greenland (Denmark)',\n",
       "       'South Ossetia', 'Faroe Islands (Denmark)',\n",
       "       'Saint Kitts and Nevis', 'Turks and Caicos Islands (UK)',\n",
       "       'American Samoa (US)', 'Northern Mariana Islands (US)',\n",
       "       'Marshall Islands', 'Sint Maarten (Netherlands)', 'Liechtenstein',\n",
       "       'British Virgin Islands (UK)', 'Monaco', 'Gibraltar (UK)',\n",
       "       'San Marino', 'Saint Martin (France)', 'Palau', 'Anguilla (UK)',\n",
       "       'Cook Islands (New Zealand)', 'Nauru',\n",
       "       'Wallis and Futuna (France)', 'Tuvalu',\n",
       "       'Saint Barthélemy (France)', 'Saint Pierre and Miquelon (France)',\n",
       "       'Saint Helena, Ascension and Tristan da Cunha (UK)',\n",
       "       'Montserrat (UK)', 'Falkland Islands (UK)',\n",
       "       'Norfolk Island (Australia)', 'Christmas Island (Australia)',\n",
       "       'Niue (New Zealand)', 'Tokelau (New Zealand)', 'Vatican City',\n",
       "       'Cocos (Keeling) Islands (Australia)', 'Pitcairn Islands (UK)'],\n",
       "      dtype=object)"
      ]
     },
     "execution_count": 37,
     "metadata": {},
     "output_type": "execute_result"
    }
   ],
   "source": [
    "df.Location.unique()"
   ]
  },
  {
   "cell_type": "code",
   "execution_count": 38,
   "id": "f30541fd-ed27-48d7-8ad6-3d4e40a001de",
   "metadata": {},
   "outputs": [],
   "source": [
    "#df.to_csv(\"countries_population.csv\",encoding= \"utf-8\", header= True, index= False)"
   ]
  },
  {
   "cell_type": "code",
   "execution_count": null,
   "id": "ae5c445b-8b85-40e4-a329-db2496a14c51",
   "metadata": {},
   "outputs": [],
   "source": []
  }
 ],
 "metadata": {
  "kernelspec": {
   "display_name": "Python 3 (ipykernel)",
   "language": "python",
   "name": "python3"
  },
  "language_info": {
   "codemirror_mode": {
    "name": "ipython",
    "version": 3
   },
   "file_extension": ".py",
   "mimetype": "text/x-python",
   "name": "python",
   "nbconvert_exporter": "python",
   "pygments_lexer": "ipython3",
   "version": "3.12.10"
  }
 },
 "nbformat": 4,
 "nbformat_minor": 5
}
